{
 "cells": [
  {
   "cell_type": "code",
   "execution_count": 1,
   "metadata": {},
   "outputs": [],
   "source": [
    "import os\n",
    "\n",
    "save_train = 'yolov5-master/data/images/train/labels'\n",
    "save_val = 'yolov5-master/data/images/val/labels'\n",
    "save_test = 'yolov5-master/data/images/test/labels'\n",
    "os.makedirs(save_train, exist_ok=True)\n",
    "os.makedirs(save_val, exist_ok=True)\n",
    "os.makedirs(save_test, exist_ok=True)\n",
    "\n",
    "def process_all_files_in_folder(input_directory):\n",
    "    file_content = ''\n",
    "    try:\n",
    "        file_list = os.listdir(input_directory)  # 폴더 내 파일 목록 가져오기\n",
    "    except FileNotFoundError:\n",
    "        print(f\"Error: Folder not found: {input_directory}\")\n",
    "        return\n",
    "    for filename in file_list:\n",
    "        try:\n",
    "            with open(input_directory+filename, \"r\", encoding=\"utf-8\") as f:\n",
    "                file_content = f.read()           \n",
    "        except FileNotFoundError:\n",
    "            print(\"aa\",file_content)\n",
    "            print(f\"Error: Could not find the file: {filename}\")\n",
    "            return\n",
    "        filena = filename.split(\".\")[0]\n",
    "        for i in range(100):\n",
    "            if i < 70 :\n",
    "                file_name = f\"{filena}_{i}.txt\"    \n",
    "                save_path = os.path.join(save_train, file_name) # 이미지 저장 경로\n",
    "                with open(save_path, \"w\", encoding=\"utf-8\") as f:\n",
    "                    f.write(file_content)\n",
    "            elif i < 85 :\n",
    "                file_name = f\"{filena}_{i}.txt\"    \n",
    "                save_path = os.path.join(save_val, file_name) # 이미지 저장 경로\n",
    "                with open(save_path, \"w\", encoding=\"utf-8\") as f:\n",
    "                    f.write(file_content)\n",
    "            else : \n",
    "                file_name = f\"{filena}_{i}.txt\"    \n",
    "                save_path = os.path.join(save_test, file_name) # 이미지 저장 경로\n",
    "                with open(save_path, \"w\", encoding=\"utf-8\") as f:\n",
    "                    f.write(file_content)\n",
    "\n",
    "# 사용 예시\n",
    "if __name__ == \"__main__\":\n",
    "    input_directory = \"./out/dataset2/label/\" # 생성된 파일을 저장할 폴더\n",
    "    process_all_files_in_folder(input_directory)"
   ]
  }
 ],
 "metadata": {
  "kernelspec": {
   "display_name": "torch_book",
   "language": "python",
   "name": "python3"
  },
  "language_info": {
   "codemirror_mode": {
    "name": "ipython",
    "version": 3
   },
   "file_extension": ".py",
   "mimetype": "text/x-python",
   "name": "python",
   "nbconvert_exporter": "python",
   "pygments_lexer": "ipython3",
   "version": "3.11.11"
  }
 },
 "nbformat": 4,
 "nbformat_minor": 2
}
